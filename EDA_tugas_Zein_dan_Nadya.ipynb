{
  "nbformat": 4,
  "nbformat_minor": 0,
  "metadata": {
    "colab": {
      "name": "EDA tugas Zein dan Nadya.ipynb",
      "provenance": [],
      "collapsed_sections": []
    },
    "kernelspec": {
      "name": "python3",
      "display_name": "Python 3"
    },
    "language_info": {
      "name": "python"
    }
  },
  "cells": [
    {
      "cell_type": "code",
      "metadata": {
        "id": "GTSGOfyKiX3h"
      },
      "source": [
        "import warnings; warnings.simplefilter('ignore')\n",
        "import pandas as pd, matplotlib.pyplot as plt, seaborn as sns, numpy as np\n",
        "import matplotlib.cm as cm\n",
        "from collections import Counter\n",
        "plt.style.use('bmh'); sns.set()"
      ],
      "execution_count": null,
      "outputs": []
    },
    {
      "cell_type": "code",
      "metadata": {
        "colab": {
          "base_uri": "https://localhost:8080/"
        },
        "id": "eFqT27USIOiU",
        "outputId": "1908597e-bb94-4d58-a7f1-5582cfda6931"
      },
      "source": [
        "  !mkdir data\n",
        "  !wget -P data/ https://raw.githubusercontent.com/taudata-indonesia/eLearning/master/data/price.csv\n",
        "  price = pd.read_csv('data/price.csv')"
      ],
      "execution_count": null,
      "outputs": [
        {
          "output_type": "stream",
          "text": [
            "mkdir: cannot create directory ‘data’: File exists\n",
            "--2021-04-13 22:44:37--  https://raw.githubusercontent.com/taudata-indonesia/eLearning/master/data/price.csv\n",
            "Resolving raw.githubusercontent.com (raw.githubusercontent.com)... 185.199.108.133, 185.199.109.133, 185.199.110.133, ...\n",
            "Connecting to raw.githubusercontent.com (raw.githubusercontent.com)|185.199.108.133|:443... connected.\n",
            "HTTP request sent, awaiting response... 200 OK\n",
            "Length: 53592 (52K) [text/plain]\n",
            "Saving to: ‘data/price.csv.1’\n",
            "\n",
            "price.csv.1         100%[===================>]  52.34K  --.-KB/s    in 0.005s  \n",
            "\n",
            "2021-04-13 22:44:38 (10.7 MB/s) - ‘data/price.csv.1’ saved [53592/53592]\n",
            "\n"
          ],
          "name": "stdout"
        }
      ]
    },
    {
      "cell_type": "code",
      "metadata": {
        "colab": {
          "base_uri": "https://localhost:8080/"
        },
        "id": "X7i0UXEcIh_a",
        "outputId": "871a4bf4-e63f-4583-b971-469ebaa012da"
      },
      "source": [
        "price.drop(\"Observation\", axis=1, inplace=True)\n",
        "price.drop_duplicates(inplace=True)\n",
        "price['Parking'] = price['Parking'].astype('category')\n",
        "price['City_Category'] = price['City_Category'].astype('category')\n",
        "price2 = price[np.abs(price.House_Price - price.House_Price.mean())<=(2*price.House_Price.std())]\n",
        "price2.info()"
      ],
      "execution_count": null,
      "outputs": [
        {
          "output_type": "stream",
          "text": [
            "<class 'pandas.core.frame.DataFrame'>\n",
            "Int64Index: 931 entries, 0 to 931\n",
            "Data columns (total 9 columns):\n",
            " #   Column         Non-Null Count  Dtype   \n",
            "---  ------         --------------  -----   \n",
            " 0   Dist_Taxi      918 non-null    float64 \n",
            " 1   Dist_Market    918 non-null    float64 \n",
            " 2   Dist_Hospital  930 non-null    float64 \n",
            " 3   Carpet         923 non-null    float64 \n",
            " 4   Builtup        916 non-null    float64 \n",
            " 5   Parking        931 non-null    category\n",
            " 6   City_Category  931 non-null    category\n",
            " 7   Rainfall       931 non-null    int64   \n",
            " 8   House_Price    931 non-null    int64   \n",
            "dtypes: category(2), float64(5), int64(2)\n",
            "memory usage: 60.3 KB\n"
          ],
          "name": "stdout"
        }
      ]
    },
    {
      "cell_type": "markdown",
      "metadata": {
        "id": "NqkKKq3a2Zti"
      },
      "source": [
        "# Bagian 1\n",
        "\n",
        "\n",
        "Mengeluarkan Outlier atas dari harga rumah berdasarkan ketersediaan tempat parkir."
      ]
    },
    {
      "cell_type": "code",
      "metadata": {
        "colab": {
          "base_uri": "https://localhost:8080/",
          "height": 285
        },
        "id": "JfP1TJlm2hyi",
        "outputId": "ae35eda6-e34b-417a-83bc-6376a34d9f16"
      },
      "source": [
        "p = sns.boxplot(x=\"House_Price\", y=\"Parking\", data=price2)"
      ],
      "execution_count": null,
      "outputs": [
        {
          "output_type": "display_data",
          "data": {
            "image/png": "[encoded data removed]",
            "text/plain": [
              "<Figure size 432x288 with 1 Axes>"
            ]
          },
          "metadata": {
            "tags": [],
            "needs_background": "light"
          }
        }
      ]
    },
    {
      "cell_type": "code",
      "metadata": {
        "colab": {
          "base_uri": "https://localhost:8080/",
          "height": 80
        },
        "id": "nDC37vr72h7z",
        "outputId": "e57ecb52-db73-47bd-cd61-e42c191b6126"
      },
      "source": [
        "Q1 = price2['House_Price'].quantile(0.25)\n",
        "Q3 = price2['House_Price'].quantile(0.75)\n",
        "IQR = Q3 - Q1    #IQR is interquartile range. \n",
        "\n",
        "overprice = (price2['House_Price'] > (Q3 + 1.5 *IQR))\n",
        "op = price2.loc[overprice]\n",
        "op"
      ],
      "execution_count": null,
      "outputs": [
        {
          "output_type": "execute_result",
          "data": {
            "text/html": [
              "<div>\n",
              "<style scoped>\n",
              "    .dataframe tbody tr th:only-of-type {\n",
              "        vertical-align: middle;\n",
              "    }\n",
              "\n",
              "    .dataframe tbody tr th {\n",
              "        vertical-align: top;\n",
              "    }\n",
              "\n",
              "    .dataframe thead th {\n",
              "        text-align: right;\n",
              "    }\n",
              "</style>\n",
              "<table border=\"1\" class=\"dataframe\">\n",
              "  <thead>\n",
              "    <tr style=\"text-align: right;\">\n",
              "      <th></th>\n",
              "      <th>Dist_Taxi</th>\n",
              "      <th>Dist_Market</th>\n",
              "      <th>Dist_Hospital</th>\n",
              "      <th>Carpet</th>\n",
              "      <th>Builtup</th>\n",
              "      <th>Parking</th>\n",
              "      <th>City_Category</th>\n",
              "      <th>Rainfall</th>\n",
              "      <th>House_Price</th>\n",
              "    </tr>\n",
              "  </thead>\n",
              "  <tbody>\n",
              "    <tr>\n",
              "      <th>678</th>\n",
              "      <td>7288.0</td>\n",
              "      <td>9560.0</td>\n",
              "      <td>12531.0</td>\n",
              "      <td>1989.0</td>\n",
              "      <td>2414.0</td>\n",
              "      <td>No Parking</td>\n",
              "      <td>CAT A</td>\n",
              "      <td>860</td>\n",
              "      <td>11632000</td>\n",
              "    </tr>\n",
              "  </tbody>\n",
              "</table>\n",
              "</div>"
            ],
            "text/plain": [
              "     Dist_Taxi  Dist_Market  Dist_Hospital  ...  City_Category  Rainfall House_Price\n",
              "678     7288.0       9560.0        12531.0  ...          CAT A       860    11632000\n",
              "\n",
              "[1 rows x 9 columns]"
            ]
          },
          "metadata": {
            "tags": []
          },
          "execution_count": 195
        }
      ]
    },
    {
      "cell_type": "markdown",
      "metadata": {
        "id": "HTtyNGY33UCU"
      },
      "source": [
        "# Bagian 2\n",
        "\n",
        "\n",
        "Mengeluarkan Outlier dari harga rumah berdasarkan ketersediaan tempat parkir dan kategori rumah."
      ]
    },
    {
      "cell_type": "code",
      "metadata": {
        "id": "cTQD343RiaD4",
        "colab": {
          "base_uri": "https://localhost:8080/",
          "height": 386
        },
        "outputId": "98d51403-b472-4bbe-f20c-7e5cc673f8a2"
      },
      "source": [
        "p = sns.catplot(x=\"Parking\", y=\"House_Price\", hue=\"City_Category\", kind=\"box\", data=price2)"
      ],
      "execution_count": null,
      "outputs": [
        {
          "output_type": "display_data",
          "data": {
            "image/png": "[encoded data removed]",
            "text/plain": [
              "<Figure size 453.425x360 with 1 Axes>"
            ]
          },
          "metadata": {
            "tags": [],
            "needs_background": "light"
          }
        }
      ]
    },
    {
      "cell_type": "code",
      "metadata": {
        "id": "w0quVfU9JD54"
      },
      "source": [
        "percobaan = price2.copy()\n",
        "percobaan['Id'] = range(len(percobaan))\n",
        "percobaan.set_index(['Parking', 'City_Category', 'Id'], inplace=True)"
      ],
      "execution_count": null,
      "outputs": []
    },
    {
      "cell_type": "code",
      "metadata": {
        "colab": {
          "base_uri": "https://localhost:8080/",
          "height": 235
        },
        "id": "z3mxMsCkYBlo",
        "outputId": "bbb7297e-e12b-40a0-d878-53abdc2f40a3"
      },
      "source": [
        "percobaan.sample(5)"
      ],
      "execution_count": null,
      "outputs": [
        {
          "output_type": "execute_result",
          "data": {
            "text/html": [
              "<div>\n",
              "<style scoped>\n",
              "    .dataframe tbody tr th:only-of-type {\n",
              "        vertical-align: middle;\n",
              "    }\n",
              "\n",
              "    .dataframe tbody tr th {\n",
              "        vertical-align: top;\n",
              "    }\n",
              "\n",
              "    .dataframe thead th {\n",
              "        text-align: right;\n",
              "    }\n",
              "</style>\n",
              "<table border=\"1\" class=\"dataframe\">\n",
              "  <thead>\n",
              "    <tr style=\"text-align: right;\">\n",
              "      <th></th>\n",
              "      <th></th>\n",
              "      <th></th>\n",
              "      <th>Dist_Taxi</th>\n",
              "      <th>Dist_Market</th>\n",
              "      <th>Dist_Hospital</th>\n",
              "      <th>Carpet</th>\n",
              "      <th>Builtup</th>\n",
              "      <th>Rainfall</th>\n",
              "      <th>House_Price</th>\n",
              "    </tr>\n",
              "    <tr>\n",
              "      <th>Parking</th>\n",
              "      <th>City_Category</th>\n",
              "      <th>Id</th>\n",
              "      <th></th>\n",
              "      <th></th>\n",
              "      <th></th>\n",
              "      <th></th>\n",
              "      <th></th>\n",
              "      <th></th>\n",
              "      <th></th>\n",
              "    </tr>\n",
              "  </thead>\n",
              "  <tbody>\n",
              "    <tr>\n",
              "      <th>Covered</th>\n",
              "      <th>CAT B</th>\n",
              "      <th>562</th>\n",
              "      <td>5876.0</td>\n",
              "      <td>13703.0</td>\n",
              "      <td>7564.0</td>\n",
              "      <td>1192.0</td>\n",
              "      <td>1445.0</td>\n",
              "      <td>810</td>\n",
              "      <td>4347000</td>\n",
              "    </tr>\n",
              "    <tr>\n",
              "      <th rowspan=\"2\" valign=\"top\">Open</th>\n",
              "      <th rowspan=\"2\" valign=\"top\">CAT B</th>\n",
              "      <th>12</th>\n",
              "      <td>7693.0</td>\n",
              "      <td>9130.0</td>\n",
              "      <td>14684.0</td>\n",
              "      <td>1746.0</td>\n",
              "      <td>2064.0</td>\n",
              "      <td>1050</td>\n",
              "      <td>6047000</td>\n",
              "    </tr>\n",
              "    <tr>\n",
              "      <th>626</th>\n",
              "      <td>5985.0</td>\n",
              "      <td>12402.0</td>\n",
              "      <td>11559.0</td>\n",
              "      <td>1664.0</td>\n",
              "      <td>2016.0</td>\n",
              "      <td>830</td>\n",
              "      <td>5913000</td>\n",
              "    </tr>\n",
              "    <tr>\n",
              "      <th>No Parking</th>\n",
              "      <th>CAT B</th>\n",
              "      <th>531</th>\n",
              "      <td>5584.0</td>\n",
              "      <td>10514.0</td>\n",
              "      <td>11003.0</td>\n",
              "      <td>1244.0</td>\n",
              "      <td>1477.0</td>\n",
              "      <td>890</td>\n",
              "      <td>2784000</td>\n",
              "    </tr>\n",
              "    <tr>\n",
              "      <th>Open</th>\n",
              "      <th>CAT A</th>\n",
              "      <th>275</th>\n",
              "      <td>7653.0</td>\n",
              "      <td>11521.0</td>\n",
              "      <td>14161.0</td>\n",
              "      <td>1875.0</td>\n",
              "      <td>2254.0</td>\n",
              "      <td>1120</td>\n",
              "      <td>7040000</td>\n",
              "    </tr>\n",
              "  </tbody>\n",
              "</table>\n",
              "</div>"
            ],
            "text/plain": [
              "                              Dist_Taxi  Dist_Market  ...  Rainfall  House_Price\n",
              "Parking    City_Category Id                           ...                       \n",
              "Covered    CAT B         562     5876.0      13703.0  ...       810      4347000\n",
              "Open       CAT B         12      7693.0       9130.0  ...      1050      6047000\n",
              "                         626     5985.0      12402.0  ...       830      5913000\n",
              "No Parking CAT B         531     5584.0      10514.0  ...       890      2784000\n",
              "Open       CAT A         275     7653.0      11521.0  ...      1120      7040000\n",
              "\n",
              "[5 rows x 7 columns]"
            ]
          },
          "metadata": {
            "tags": []
          },
          "execution_count": 196
        }
      ]
    },
    {
      "cell_type": "code",
      "metadata": {
        "colab": {
          "base_uri": "https://localhost:8080/"
        },
        "id": "o82cUNUTnHh7",
        "outputId": "e07ef879-7ce8-46a0-83d7-012ffa7ed761"
      },
      "source": [
        "park = ['Covered', 'No Parking', 'Not Provided', 'Open']\n",
        "cat = ['CAT A', 'CAT B', 'CAT C']\n",
        "\n",
        "murah = pd.DataFrame(columns=('Id', 'Dist_Taxi',\t'Dist_Market',\t'Dist_Hospital',\t'Carpet',\t'Builtup',\t'Rainfall',\t'House_Price')).set_index('Id')\n",
        "\n",
        "for i in park:\n",
        "  for j in cat:\n",
        "    try:\n",
        "      Q1 = percobaan.loc[i, j]['House_Price'].quantile(0.25)\n",
        "      Q3 = percobaan.loc[i, j]['House_Price'].quantile(0.75)\n",
        "      IQR = Q3 - Q1\n",
        "      print('outlier bawah tipe {} dan {}'.format(i,j))\n",
        "      a = percobaan[percobaan.House_Price < (Q1 - 1.5* IQR)].loc[i, j]\n",
        "      print(a)\n",
        "      murah = murah.append(a)\n",
        "    except:\n",
        "      print('tidak ada')"
      ],
      "execution_count": null,
      "outputs": [
        {
          "output_type": "stream",
          "text": [
            "outlier bawah tipe Covered dan CAT A\n",
            "     Dist_Taxi  Dist_Market  Dist_Hospital  ...  Builtup  Rainfall  House_Price\n",
            "Id                                          ...                                \n",
            "320    11240.0       9781.0        15232.0  ...   1813.0       520      4496000\n",
            "874     9997.0      12349.0        13043.0  ...   1606.0       770      4303000\n",
            "\n",
            "[2 rows x 7 columns]\n",
            "outlier bawah tipe Covered dan CAT B\n",
            "tidak ada\n",
            "outlier bawah tipe Covered dan CAT C\n",
            "     Dist_Taxi  Dist_Market  Dist_Hospital  ...  Builtup  Rainfall  House_Price\n",
            "Id                                          ...                                \n",
            "621     4619.0      10768.0        11787.0  ...   1946.0       870      2027000\n",
            "\n",
            "[1 rows x 7 columns]\n",
            "outlier bawah tipe No Parking dan CAT A\n",
            "     Dist_Taxi  Dist_Market  Dist_Hospital  ...  Builtup  Rainfall  House_Price\n",
            "Id                                          ...                                \n",
            "408     8773.0      13547.0        15551.0  ...   1799.0       960      3860000\n",
            "\n",
            "[1 rows x 7 columns]\n",
            "outlier bawah tipe No Parking dan CAT B\n",
            "tidak ada\n",
            "outlier bawah tipe No Parking dan CAT C\n",
            "tidak ada\n",
            "outlier bawah tipe Not Provided dan CAT A\n",
            "tidak ada\n",
            "outlier bawah tipe Not Provided dan CAT B\n",
            "tidak ada\n",
            "outlier bawah tipe Not Provided dan CAT C\n",
            "tidak ada\n",
            "outlier bawah tipe Open dan CAT A\n",
            "     Dist_Taxi  Dist_Market  Dist_Hospital  ...  Builtup  Rainfall  House_Price\n",
            "Id                                          ...                                \n",
            "810        NaN          NaN            NaN  ...      NaN       440        30000\n",
            "\n",
            "[1 rows x 7 columns]\n",
            "outlier bawah tipe Open dan CAT B\n",
            "tidak ada\n",
            "outlier bawah tipe Open dan CAT C\n",
            "tidak ada\n"
          ],
          "name": "stdout"
        }
      ]
    },
    {
      "cell_type": "code",
      "metadata": {
        "colab": {
          "base_uri": "https://localhost:8080/",
          "height": 235
        },
        "id": "mTZtQPvznVUD",
        "outputId": "6a038e46-4058-4d0b-9cf6-f3f53774292b"
      },
      "source": [
        "murah['keterangan'] = 'underprice'\n",
        "murah"
      ],
      "execution_count": null,
      "outputs": [
        {
          "output_type": "execute_result",
          "data": {
            "text/html": [
              "<div>\n",
              "<style scoped>\n",
              "    .dataframe tbody tr th:only-of-type {\n",
              "        vertical-align: middle;\n",
              "    }\n",
              "\n",
              "    .dataframe tbody tr th {\n",
              "        vertical-align: top;\n",
              "    }\n",
              "\n",
              "    .dataframe thead th {\n",
              "        text-align: right;\n",
              "    }\n",
              "</style>\n",
              "<table border=\"1\" class=\"dataframe\">\n",
              "  <thead>\n",
              "    <tr style=\"text-align: right;\">\n",
              "      <th></th>\n",
              "      <th>Dist_Taxi</th>\n",
              "      <th>Dist_Market</th>\n",
              "      <th>Dist_Hospital</th>\n",
              "      <th>Carpet</th>\n",
              "      <th>Builtup</th>\n",
              "      <th>Rainfall</th>\n",
              "      <th>House_Price</th>\n",
              "      <th>keterangan</th>\n",
              "    </tr>\n",
              "    <tr>\n",
              "      <th>Id</th>\n",
              "      <th></th>\n",
              "      <th></th>\n",
              "      <th></th>\n",
              "      <th></th>\n",
              "      <th></th>\n",
              "      <th></th>\n",
              "      <th></th>\n",
              "      <th></th>\n",
              "    </tr>\n",
              "  </thead>\n",
              "  <tbody>\n",
              "    <tr>\n",
              "      <th>320</th>\n",
              "      <td>11240.0</td>\n",
              "      <td>9781.0</td>\n",
              "      <td>15232.0</td>\n",
              "      <td>1523.0</td>\n",
              "      <td>1813.0</td>\n",
              "      <td>520</td>\n",
              "      <td>4496000</td>\n",
              "      <td>underprice</td>\n",
              "    </tr>\n",
              "    <tr>\n",
              "      <th>874</th>\n",
              "      <td>9997.0</td>\n",
              "      <td>12349.0</td>\n",
              "      <td>13043.0</td>\n",
              "      <td>1350.0</td>\n",
              "      <td>1606.0</td>\n",
              "      <td>770</td>\n",
              "      <td>4303000</td>\n",
              "      <td>underprice</td>\n",
              "    </tr>\n",
              "    <tr>\n",
              "      <th>621</th>\n",
              "      <td>4619.0</td>\n",
              "      <td>10768.0</td>\n",
              "      <td>11787.0</td>\n",
              "      <td>1624.0</td>\n",
              "      <td>1946.0</td>\n",
              "      <td>870</td>\n",
              "      <td>2027000</td>\n",
              "      <td>underprice</td>\n",
              "    </tr>\n",
              "    <tr>\n",
              "      <th>408</th>\n",
              "      <td>8773.0</td>\n",
              "      <td>13547.0</td>\n",
              "      <td>15551.0</td>\n",
              "      <td>1509.0</td>\n",
              "      <td>1799.0</td>\n",
              "      <td>960</td>\n",
              "      <td>3860000</td>\n",
              "      <td>underprice</td>\n",
              "    </tr>\n",
              "    <tr>\n",
              "      <th>810</th>\n",
              "      <td>NaN</td>\n",
              "      <td>NaN</td>\n",
              "      <td>NaN</td>\n",
              "      <td>NaN</td>\n",
              "      <td>NaN</td>\n",
              "      <td>440</td>\n",
              "      <td>30000</td>\n",
              "      <td>underprice</td>\n",
              "    </tr>\n",
              "  </tbody>\n",
              "</table>\n",
              "</div>"
            ],
            "text/plain": [
              "     Dist_Taxi  Dist_Market  Dist_Hospital  ...  Rainfall  House_Price  keterangan\n",
              "Id                                          ...                                   \n",
              "320    11240.0       9781.0        15232.0  ...       520      4496000  underprice\n",
              "874     9997.0      12349.0        13043.0  ...       770      4303000  underprice\n",
              "621     4619.0      10768.0        11787.0  ...       870      2027000  underprice\n",
              "408     8773.0      13547.0        15551.0  ...       960      3860000  underprice\n",
              "810        NaN          NaN            NaN  ...       440        30000  underprice\n",
              "\n",
              "[5 rows x 8 columns]"
            ]
          },
          "metadata": {
            "tags": []
          },
          "execution_count": 229
        }
      ]
    },
    {
      "cell_type": "code",
      "metadata": {
        "colab": {
          "base_uri": "https://localhost:8080/"
        },
        "id": "ya1rJtzehdm5",
        "outputId": "23388beb-4507-4e0e-9997-318a506708aa"
      },
      "source": [
        "mahal = pd.DataFrame(columns=('Id', 'Dist_Taxi',\t'Dist_Market',\t'Dist_Hospital',\t'Carpet',\t'Builtup',\t'Rainfall',\t'House_Price')).set_index('Id')\n",
        "\n",
        "for i in park:\n",
        "  for j in cat:\n",
        "    try:\n",
        "      Q1 = percobaan.loc[i, j]['House_Price'].quantile(0.25)\n",
        "      Q3 = percobaan.loc[i, j]['House_Price'].quantile(0.75)\n",
        "      IQR = Q3 - Q1\n",
        "      print('outlier atas tipe {} dan {}'.format(i,j))\n",
        "      b = percobaan[percobaan.House_Price > (Q3 + 1.5* IQR)].loc[i, j]\n",
        "      print(b)\n",
        "      mahal = mahal.append(b)\n",
        "    except:\n",
        "      print('tidak ada')"
      ],
      "execution_count": null,
      "outputs": [
        {
          "output_type": "stream",
          "text": [
            "outlier atas tipe Covered dan CAT A\n",
            "tidak ada\n",
            "outlier atas tipe Covered dan CAT B\n",
            "     Dist_Taxi  Dist_Market  Dist_Hospital  ...  Builtup  Rainfall  House_Price\n",
            "Id                                          ...                                \n",
            "724    10989.0      13153.0        13797.0  ...   1958.0       530      9336000\n",
            "762     8274.0      11673.0        13345.0  ...   1999.0       950      9300000\n",
            "\n",
            "[2 rows x 7 columns]\n",
            "outlier atas tipe Covered dan CAT C\n",
            "     Dist_Taxi  Dist_Market  Dist_Hospital  ...  Builtup  Rainfall  House_Price\n",
            "Id                                          ...                                \n",
            "781     8618.0      10717.0        12286.0  ...   1979.0       480      7580000\n",
            "846     8740.0      10899.0        13447.0  ...   2252.0       330      7931000\n",
            "\n",
            "[2 rows x 7 columns]\n",
            "outlier atas tipe No Parking dan CAT A\n",
            "     Dist_Taxi  Dist_Market  Dist_Hospital  ...  Builtup  Rainfall  House_Price\n",
            "Id                                          ...                                \n",
            "427    16233.0      15074.0        18566.0  ...   1587.0      1310     10231000\n",
            "677     7288.0       9560.0        12531.0  ...   2414.0       860     11632000\n",
            "\n",
            "[2 rows x 7 columns]\n",
            "outlier atas tipe No Parking dan CAT B\n",
            "tidak ada\n",
            "outlier atas tipe No Parking dan CAT C\n",
            "tidak ada\n",
            "outlier atas tipe Not Provided dan CAT A\n",
            "     Dist_Taxi  Dist_Market  Dist_Hospital  ...  Builtup  Rainfall  House_Price\n",
            "Id                                          ...                                \n",
            "175     5754.0       6031.0         9745.0  ...   1763.0       680      9957000\n",
            "721     8499.0       7295.0        13189.0  ...   1858.0       480      9948000\n",
            "788    12262.0      12066.0        13268.0  ...   1758.0       820     10182000\n",
            "\n",
            "[3 rows x 7 columns]\n",
            "outlier atas tipe Not Provided dan CAT B\n",
            "     Dist_Taxi  Dist_Market  Dist_Hospital  ...  Builtup  Rainfall  House_Price\n",
            "Id                                          ...                                \n",
            "256    10100.0      11800.0        14304.0  ...   1418.0      1150      8931000\n",
            "830    11719.0      11627.0        16141.0  ...   2420.0       850      8567000\n",
            "\n",
            "[2 rows x 7 columns]\n",
            "outlier atas tipe Not Provided dan CAT C\n",
            "     Dist_Taxi  Dist_Market  Dist_Hospital  ...  Builtup  Rainfall  House_Price\n",
            "Id                                          ...                                \n",
            "464     7753.0       8307.0        13508.0  ...   1959.0       890      7148000\n",
            "925    10915.0      17486.0        15964.0  ...   1851.0      1220      7062000\n",
            "\n",
            "[2 rows x 7 columns]\n",
            "outlier atas tipe Open dan CAT A\n",
            "tidak ada\n",
            "outlier atas tipe Open dan CAT B\n",
            "     Dist_Taxi  Dist_Market  Dist_Hospital  ...  Builtup  Rainfall  House_Price\n",
            "Id                                          ...                                \n",
            "929    15082.0      14700.0        19617.0  ...   1560.0       770      9661000\n",
            "\n",
            "[1 rows x 7 columns]\n",
            "outlier atas tipe Open dan CAT C\n",
            "     Dist_Taxi  Dist_Market  Dist_Hospital  ...  Builtup  Rainfall  House_Price\n",
            "Id                                          ...                                \n",
            "346     9119.0      11639.0        14374.0  ...   1968.0       330      8147000\n",
            "\n",
            "[1 rows x 7 columns]\n"
          ],
          "name": "stdout"
        }
      ]
    },
    {
      "cell_type": "code",
      "metadata": {
        "colab": {
          "base_uri": "https://localhost:8080/",
          "height": 545
        },
        "id": "HbG_hAloWL_D",
        "outputId": "10ac5813-3490-4356-8245-85d5e694c6ba"
      },
      "source": [
        "mahal['keterangan'] = 'overprice'\n",
        "mahal"
      ],
      "execution_count": null,
      "outputs": [
        {
          "output_type": "execute_result",
          "data": {
            "text/html": [
              "<div>\n",
              "<style scoped>\n",
              "    .dataframe tbody tr th:only-of-type {\n",
              "        vertical-align: middle;\n",
              "    }\n",
              "\n",
              "    .dataframe tbody tr th {\n",
              "        vertical-align: top;\n",
              "    }\n",
              "\n",
              "    .dataframe thead th {\n",
              "        text-align: right;\n",
              "    }\n",
              "</style>\n",
              "<table border=\"1\" class=\"dataframe\">\n",
              "  <thead>\n",
              "    <tr style=\"text-align: right;\">\n",
              "      <th></th>\n",
              "      <th>Dist_Taxi</th>\n",
              "      <th>Dist_Market</th>\n",
              "      <th>Dist_Hospital</th>\n",
              "      <th>Carpet</th>\n",
              "      <th>Builtup</th>\n",
              "      <th>Rainfall</th>\n",
              "      <th>House_Price</th>\n",
              "      <th>keterangan</th>\n",
              "    </tr>\n",
              "    <tr>\n",
              "      <th>Id</th>\n",
              "      <th></th>\n",
              "      <th></th>\n",
              "      <th></th>\n",
              "      <th></th>\n",
              "      <th></th>\n",
              "      <th></th>\n",
              "      <th></th>\n",
              "      <th></th>\n",
              "    </tr>\n",
              "  </thead>\n",
              "  <tbody>\n",
              "    <tr>\n",
              "      <th>724</th>\n",
              "      <td>10989.0</td>\n",
              "      <td>13153.0</td>\n",
              "      <td>13797.0</td>\n",
              "      <td>1645.0</td>\n",
              "      <td>1958.0</td>\n",
              "      <td>530</td>\n",
              "      <td>9336000</td>\n",
              "      <td>overprice</td>\n",
              "    </tr>\n",
              "    <tr>\n",
              "      <th>762</th>\n",
              "      <td>8274.0</td>\n",
              "      <td>11673.0</td>\n",
              "      <td>13345.0</td>\n",
              "      <td>1641.0</td>\n",
              "      <td>1999.0</td>\n",
              "      <td>950</td>\n",
              "      <td>9300000</td>\n",
              "      <td>overprice</td>\n",
              "    </tr>\n",
              "    <tr>\n",
              "      <th>781</th>\n",
              "      <td>8618.0</td>\n",
              "      <td>10717.0</td>\n",
              "      <td>12286.0</td>\n",
              "      <td>1660.0</td>\n",
              "      <td>1979.0</td>\n",
              "      <td>480</td>\n",
              "      <td>7580000</td>\n",
              "      <td>overprice</td>\n",
              "    </tr>\n",
              "    <tr>\n",
              "      <th>846</th>\n",
              "      <td>8740.0</td>\n",
              "      <td>10899.0</td>\n",
              "      <td>13447.0</td>\n",
              "      <td>1873.0</td>\n",
              "      <td>2252.0</td>\n",
              "      <td>330</td>\n",
              "      <td>7931000</td>\n",
              "      <td>overprice</td>\n",
              "    </tr>\n",
              "    <tr>\n",
              "      <th>427</th>\n",
              "      <td>16233.0</td>\n",
              "      <td>15074.0</td>\n",
              "      <td>18566.0</td>\n",
              "      <td>1303.0</td>\n",
              "      <td>1587.0</td>\n",
              "      <td>1310</td>\n",
              "      <td>10231000</td>\n",
              "      <td>overprice</td>\n",
              "    </tr>\n",
              "    <tr>\n",
              "      <th>677</th>\n",
              "      <td>7288.0</td>\n",
              "      <td>9560.0</td>\n",
              "      <td>12531.0</td>\n",
              "      <td>1989.0</td>\n",
              "      <td>2414.0</td>\n",
              "      <td>860</td>\n",
              "      <td>11632000</td>\n",
              "      <td>overprice</td>\n",
              "    </tr>\n",
              "    <tr>\n",
              "      <th>175</th>\n",
              "      <td>5754.0</td>\n",
              "      <td>6031.0</td>\n",
              "      <td>9745.0</td>\n",
              "      <td>1465.0</td>\n",
              "      <td>1763.0</td>\n",
              "      <td>680</td>\n",
              "      <td>9957000</td>\n",
              "      <td>overprice</td>\n",
              "    </tr>\n",
              "    <tr>\n",
              "      <th>721</th>\n",
              "      <td>8499.0</td>\n",
              "      <td>7295.0</td>\n",
              "      <td>13189.0</td>\n",
              "      <td>1548.0</td>\n",
              "      <td>1858.0</td>\n",
              "      <td>480</td>\n",
              "      <td>9948000</td>\n",
              "      <td>overprice</td>\n",
              "    </tr>\n",
              "    <tr>\n",
              "      <th>788</th>\n",
              "      <td>12262.0</td>\n",
              "      <td>12066.0</td>\n",
              "      <td>13268.0</td>\n",
              "      <td>1486.0</td>\n",
              "      <td>1758.0</td>\n",
              "      <td>820</td>\n",
              "      <td>10182000</td>\n",
              "      <td>overprice</td>\n",
              "    </tr>\n",
              "    <tr>\n",
              "      <th>256</th>\n",
              "      <td>10100.0</td>\n",
              "      <td>11800.0</td>\n",
              "      <td>14304.0</td>\n",
              "      <td>1185.0</td>\n",
              "      <td>1418.0</td>\n",
              "      <td>1150</td>\n",
              "      <td>8931000</td>\n",
              "      <td>overprice</td>\n",
              "    </tr>\n",
              "    <tr>\n",
              "      <th>830</th>\n",
              "      <td>11719.0</td>\n",
              "      <td>11627.0</td>\n",
              "      <td>16141.0</td>\n",
              "      <td>2019.0</td>\n",
              "      <td>2420.0</td>\n",
              "      <td>850</td>\n",
              "      <td>8567000</td>\n",
              "      <td>overprice</td>\n",
              "    </tr>\n",
              "    <tr>\n",
              "      <th>464</th>\n",
              "      <td>7753.0</td>\n",
              "      <td>8307.0</td>\n",
              "      <td>13508.0</td>\n",
              "      <td>1628.0</td>\n",
              "      <td>1959.0</td>\n",
              "      <td>890</td>\n",
              "      <td>7148000</td>\n",
              "      <td>overprice</td>\n",
              "    </tr>\n",
              "    <tr>\n",
              "      <th>925</th>\n",
              "      <td>10915.0</td>\n",
              "      <td>17486.0</td>\n",
              "      <td>15964.0</td>\n",
              "      <td>1549.0</td>\n",
              "      <td>1851.0</td>\n",
              "      <td>1220</td>\n",
              "      <td>7062000</td>\n",
              "      <td>overprice</td>\n",
              "    </tr>\n",
              "    <tr>\n",
              "      <th>929</th>\n",
              "      <td>15082.0</td>\n",
              "      <td>14700.0</td>\n",
              "      <td>19617.0</td>\n",
              "      <td>1299.0</td>\n",
              "      <td>1560.0</td>\n",
              "      <td>770</td>\n",
              "      <td>9661000</td>\n",
              "      <td>overprice</td>\n",
              "    </tr>\n",
              "    <tr>\n",
              "      <th>346</th>\n",
              "      <td>9119.0</td>\n",
              "      <td>11639.0</td>\n",
              "      <td>14374.0</td>\n",
              "      <td>1633.0</td>\n",
              "      <td>1968.0</td>\n",
              "      <td>330</td>\n",
              "      <td>8147000</td>\n",
              "      <td>overprice</td>\n",
              "    </tr>\n",
              "  </tbody>\n",
              "</table>\n",
              "</div>"
            ],
            "text/plain": [
              "     Dist_Taxi  Dist_Market  Dist_Hospital  ...  Rainfall  House_Price keterangan\n",
              "Id                                          ...                                  \n",
              "724    10989.0      13153.0        13797.0  ...       530      9336000  overprice\n",
              "762     8274.0      11673.0        13345.0  ...       950      9300000  overprice\n",
              "781     8618.0      10717.0        12286.0  ...       480      7580000  overprice\n",
              "846     8740.0      10899.0        13447.0  ...       330      7931000  overprice\n",
              "427    16233.0      15074.0        18566.0  ...      1310     10231000  overprice\n",
              "677     7288.0       9560.0        12531.0  ...       860     11632000  overprice\n",
              "175     5754.0       6031.0         9745.0  ...       680      9957000  overprice\n",
              "721     8499.0       7295.0        13189.0  ...       480      9948000  overprice\n",
              "788    12262.0      12066.0        13268.0  ...       820     10182000  overprice\n",
              "256    10100.0      11800.0        14304.0  ...      1150      8931000  overprice\n",
              "830    11719.0      11627.0        16141.0  ...       850      8567000  overprice\n",
              "464     7753.0       8307.0        13508.0  ...       890      7148000  overprice\n",
              "925    10915.0      17486.0        15964.0  ...      1220      7062000  overprice\n",
              "929    15082.0      14700.0        19617.0  ...       770      9661000  overprice\n",
              "346     9119.0      11639.0        14374.0  ...       330      8147000  overprice\n",
              "\n",
              "[15 rows x 8 columns]"
            ]
          },
          "metadata": {
            "tags": []
          },
          "execution_count": 230
        }
      ]
    },
    {
      "cell_type": "code",
      "metadata": {
        "colab": {
          "base_uri": "https://localhost:8080/",
          "height": 450
        },
        "id": "5NXuGJjF4e8v",
        "outputId": "3a910a93-ed6f-4f8b-999e-7629c83a1641"
      },
      "source": [
        "price2['Id'] = range(len(price2))\n",
        "price2.set_index('Id')"
      ],
      "execution_count": null,
      "outputs": [
        {
          "output_type": "execute_result",
          "data": {
            "text/html": [
              "<div>\n",
              "<style scoped>\n",
              "    .dataframe tbody tr th:only-of-type {\n",
              "        vertical-align: middle;\n",
              "    }\n",
              "\n",
              "    .dataframe tbody tr th {\n",
              "        vertical-align: top;\n",
              "    }\n",
              "\n",
              "    .dataframe thead th {\n",
              "        text-align: right;\n",
              "    }\n",
              "</style>\n",
              "<table border=\"1\" class=\"dataframe\">\n",
              "  <thead>\n",
              "    <tr style=\"text-align: right;\">\n",
              "      <th></th>\n",
              "      <th>Dist_Taxi</th>\n",
              "      <th>Dist_Market</th>\n",
              "      <th>Dist_Hospital</th>\n",
              "      <th>Carpet</th>\n",
              "      <th>Builtup</th>\n",
              "      <th>Parking</th>\n",
              "      <th>City_Category</th>\n",
              "      <th>Rainfall</th>\n",
              "      <th>House_Price</th>\n",
              "    </tr>\n",
              "    <tr>\n",
              "      <th>Id</th>\n",
              "      <th></th>\n",
              "      <th></th>\n",
              "      <th></th>\n",
              "      <th></th>\n",
              "      <th></th>\n",
              "      <th></th>\n",
              "      <th></th>\n",
              "      <th></th>\n",
              "      <th></th>\n",
              "    </tr>\n",
              "  </thead>\n",
              "  <tbody>\n",
              "    <tr>\n",
              "      <th>0</th>\n",
              "      <td>9796.0</td>\n",
              "      <td>5250.0</td>\n",
              "      <td>10703.0</td>\n",
              "      <td>1659.0</td>\n",
              "      <td>1961.0</td>\n",
              "      <td>Open</td>\n",
              "      <td>CAT B</td>\n",
              "      <td>530</td>\n",
              "      <td>6649000</td>\n",
              "    </tr>\n",
              "    <tr>\n",
              "      <th>1</th>\n",
              "      <td>8294.0</td>\n",
              "      <td>8186.0</td>\n",
              "      <td>12694.0</td>\n",
              "      <td>1461.0</td>\n",
              "      <td>1752.0</td>\n",
              "      <td>Not Provided</td>\n",
              "      <td>CAT B</td>\n",
              "      <td>210</td>\n",
              "      <td>3982000</td>\n",
              "    </tr>\n",
              "    <tr>\n",
              "      <th>2</th>\n",
              "      <td>11001.0</td>\n",
              "      <td>14399.0</td>\n",
              "      <td>16991.0</td>\n",
              "      <td>1340.0</td>\n",
              "      <td>1609.0</td>\n",
              "      <td>Not Provided</td>\n",
              "      <td>CAT A</td>\n",
              "      <td>720</td>\n",
              "      <td>5401000</td>\n",
              "    </tr>\n",
              "    <tr>\n",
              "      <th>3</th>\n",
              "      <td>8301.0</td>\n",
              "      <td>11188.0</td>\n",
              "      <td>12289.0</td>\n",
              "      <td>1451.0</td>\n",
              "      <td>1748.0</td>\n",
              "      <td>Covered</td>\n",
              "      <td>CAT B</td>\n",
              "      <td>620</td>\n",
              "      <td>5373000</td>\n",
              "    </tr>\n",
              "    <tr>\n",
              "      <th>4</th>\n",
              "      <td>10510.0</td>\n",
              "      <td>12629.0</td>\n",
              "      <td>13921.0</td>\n",
              "      <td>1770.0</td>\n",
              "      <td>2111.0</td>\n",
              "      <td>Not Provided</td>\n",
              "      <td>CAT B</td>\n",
              "      <td>450</td>\n",
              "      <td>4662000</td>\n",
              "    </tr>\n",
              "    <tr>\n",
              "      <th>...</th>\n",
              "      <td>...</td>\n",
              "      <td>...</td>\n",
              "      <td>...</td>\n",
              "      <td>...</td>\n",
              "      <td>...</td>\n",
              "      <td>...</td>\n",
              "      <td>...</td>\n",
              "      <td>...</td>\n",
              "      <td>...</td>\n",
              "    </tr>\n",
              "    <tr>\n",
              "      <th>926</th>\n",
              "      <td>12176.0</td>\n",
              "      <td>8518.0</td>\n",
              "      <td>15673.0</td>\n",
              "      <td>1582.0</td>\n",
              "      <td>1910.0</td>\n",
              "      <td>Covered</td>\n",
              "      <td>CAT C</td>\n",
              "      <td>1080</td>\n",
              "      <td>6639000</td>\n",
              "    </tr>\n",
              "    <tr>\n",
              "      <th>927</th>\n",
              "      <td>7214.0</td>\n",
              "      <td>8717.0</td>\n",
              "      <td>10553.0</td>\n",
              "      <td>1387.0</td>\n",
              "      <td>1663.0</td>\n",
              "      <td>Open</td>\n",
              "      <td>CAT A</td>\n",
              "      <td>850</td>\n",
              "      <td>8208000</td>\n",
              "    </tr>\n",
              "    <tr>\n",
              "      <th>928</th>\n",
              "      <td>7423.0</td>\n",
              "      <td>11708.0</td>\n",
              "      <td>13220.0</td>\n",
              "      <td>1200.0</td>\n",
              "      <td>1436.0</td>\n",
              "      <td>Open</td>\n",
              "      <td>CAT A</td>\n",
              "      <td>1060</td>\n",
              "      <td>7644000</td>\n",
              "    </tr>\n",
              "    <tr>\n",
              "      <th>929</th>\n",
              "      <td>15082.0</td>\n",
              "      <td>14700.0</td>\n",
              "      <td>19617.0</td>\n",
              "      <td>1299.0</td>\n",
              "      <td>1560.0</td>\n",
              "      <td>Open</td>\n",
              "      <td>CAT B</td>\n",
              "      <td>770</td>\n",
              "      <td>9661000</td>\n",
              "    </tr>\n",
              "    <tr>\n",
              "      <th>930</th>\n",
              "      <td>9297.0</td>\n",
              "      <td>12537.0</td>\n",
              "      <td>14418.0</td>\n",
              "      <td>1174.0</td>\n",
              "      <td>1429.0</td>\n",
              "      <td>Covered</td>\n",
              "      <td>CAT C</td>\n",
              "      <td>1110</td>\n",
              "      <td>5434000</td>\n",
              "    </tr>\n",
              "  </tbody>\n",
              "</table>\n",
              "<p>931 rows × 9 columns</p>\n",
              "</div>"
            ],
            "text/plain": [
              "     Dist_Taxi  Dist_Market  Dist_Hospital  ...  City_Category  Rainfall House_Price\n",
              "Id                                          ...                                     \n",
              "0       9796.0       5250.0        10703.0  ...          CAT B       530     6649000\n",
              "1       8294.0       8186.0        12694.0  ...          CAT B       210     3982000\n",
              "2      11001.0      14399.0        16991.0  ...          CAT A       720     5401000\n",
              "3       8301.0      11188.0        12289.0  ...          CAT B       620     5373000\n",
              "4      10510.0      12629.0        13921.0  ...          CAT B       450     4662000\n",
              "..         ...          ...            ...  ...            ...       ...         ...\n",
              "926    12176.0       8518.0        15673.0  ...          CAT C      1080     6639000\n",
              "927     7214.0       8717.0        10553.0  ...          CAT A       850     8208000\n",
              "928     7423.0      11708.0        13220.0  ...          CAT A      1060     7644000\n",
              "929    15082.0      14700.0        19617.0  ...          CAT B       770     9661000\n",
              "930     9297.0      12537.0        14418.0  ...          CAT C      1110     5434000\n",
              "\n",
              "[931 rows x 9 columns]"
            ]
          },
          "metadata": {
            "tags": []
          },
          "execution_count": 221
        }
      ]
    },
    {
      "cell_type": "code",
      "metadata": {
        "colab": {
          "base_uri": "https://localhost:8080/",
          "height": 700
        },
        "id": "YqPmipha9lBP",
        "outputId": "10ef6a99-c370-445f-97cf-e586c9b4b131"
      },
      "source": [
        "outliers_price = murah.append(mahal)\n",
        "outliers_price = outliers_price.merge(price2, how='left').set_index('Id').sort_index()\n",
        "outliers_price"
      ],
      "execution_count": null,
      "outputs": [
        {
          "output_type": "execute_result",
          "data": {
            "text/html": [
              "<div>\n",
              "<style scoped>\n",
              "    .dataframe tbody tr th:only-of-type {\n",
              "        vertical-align: middle;\n",
              "    }\n",
              "\n",
              "    .dataframe tbody tr th {\n",
              "        vertical-align: top;\n",
              "    }\n",
              "\n",
              "    .dataframe thead th {\n",
              "        text-align: right;\n",
              "    }\n",
              "</style>\n",
              "<table border=\"1\" class=\"dataframe\">\n",
              "  <thead>\n",
              "    <tr style=\"text-align: right;\">\n",
              "      <th></th>\n",
              "      <th>Dist_Taxi</th>\n",
              "      <th>Dist_Market</th>\n",
              "      <th>Dist_Hospital</th>\n",
              "      <th>Carpet</th>\n",
              "      <th>Builtup</th>\n",
              "      <th>Rainfall</th>\n",
              "      <th>House_Price</th>\n",
              "      <th>keterangan</th>\n",
              "      <th>Parking</th>\n",
              "      <th>City_Category</th>\n",
              "    </tr>\n",
              "    <tr>\n",
              "      <th>Id</th>\n",
              "      <th></th>\n",
              "      <th></th>\n",
              "      <th></th>\n",
              "      <th></th>\n",
              "      <th></th>\n",
              "      <th></th>\n",
              "      <th></th>\n",
              "      <th></th>\n",
              "      <th></th>\n",
              "      <th></th>\n",
              "    </tr>\n",
              "  </thead>\n",
              "  <tbody>\n",
              "    <tr>\n",
              "      <th>175</th>\n",
              "      <td>5754.0</td>\n",
              "      <td>6031.0</td>\n",
              "      <td>9745.0</td>\n",
              "      <td>1465.0</td>\n",
              "      <td>1763.0</td>\n",
              "      <td>680</td>\n",
              "      <td>9957000</td>\n",
              "      <td>overprice</td>\n",
              "      <td>Not Provided</td>\n",
              "      <td>CAT A</td>\n",
              "    </tr>\n",
              "    <tr>\n",
              "      <th>256</th>\n",
              "      <td>10100.0</td>\n",
              "      <td>11800.0</td>\n",
              "      <td>14304.0</td>\n",
              "      <td>1185.0</td>\n",
              "      <td>1418.0</td>\n",
              "      <td>1150</td>\n",
              "      <td>8931000</td>\n",
              "      <td>overprice</td>\n",
              "      <td>Not Provided</td>\n",
              "      <td>CAT B</td>\n",
              "    </tr>\n",
              "    <tr>\n",
              "      <th>320</th>\n",
              "      <td>11240.0</td>\n",
              "      <td>9781.0</td>\n",
              "      <td>15232.0</td>\n",
              "      <td>1523.0</td>\n",
              "      <td>1813.0</td>\n",
              "      <td>520</td>\n",
              "      <td>4496000</td>\n",
              "      <td>underprice</td>\n",
              "      <td>Covered</td>\n",
              "      <td>CAT A</td>\n",
              "    </tr>\n",
              "    <tr>\n",
              "      <th>346</th>\n",
              "      <td>9119.0</td>\n",
              "      <td>11639.0</td>\n",
              "      <td>14374.0</td>\n",
              "      <td>1633.0</td>\n",
              "      <td>1968.0</td>\n",
              "      <td>330</td>\n",
              "      <td>8147000</td>\n",
              "      <td>overprice</td>\n",
              "      <td>Open</td>\n",
              "      <td>CAT C</td>\n",
              "    </tr>\n",
              "    <tr>\n",
              "      <th>408</th>\n",
              "      <td>8773.0</td>\n",
              "      <td>13547.0</td>\n",
              "      <td>15551.0</td>\n",
              "      <td>1509.0</td>\n",
              "      <td>1799.0</td>\n",
              "      <td>960</td>\n",
              "      <td>3860000</td>\n",
              "      <td>underprice</td>\n",
              "      <td>No Parking</td>\n",
              "      <td>CAT A</td>\n",
              "    </tr>\n",
              "    <tr>\n",
              "      <th>427</th>\n",
              "      <td>16233.0</td>\n",
              "      <td>15074.0</td>\n",
              "      <td>18566.0</td>\n",
              "      <td>1303.0</td>\n",
              "      <td>1587.0</td>\n",
              "      <td>1310</td>\n",
              "      <td>10231000</td>\n",
              "      <td>overprice</td>\n",
              "      <td>No Parking</td>\n",
              "      <td>CAT A</td>\n",
              "    </tr>\n",
              "    <tr>\n",
              "      <th>464</th>\n",
              "      <td>7753.0</td>\n",
              "      <td>8307.0</td>\n",
              "      <td>13508.0</td>\n",
              "      <td>1628.0</td>\n",
              "      <td>1959.0</td>\n",
              "      <td>890</td>\n",
              "      <td>7148000</td>\n",
              "      <td>overprice</td>\n",
              "      <td>Not Provided</td>\n",
              "      <td>CAT C</td>\n",
              "    </tr>\n",
              "    <tr>\n",
              "      <th>621</th>\n",
              "      <td>4619.0</td>\n",
              "      <td>10768.0</td>\n",
              "      <td>11787.0</td>\n",
              "      <td>1624.0</td>\n",
              "      <td>1946.0</td>\n",
              "      <td>870</td>\n",
              "      <td>2027000</td>\n",
              "      <td>underprice</td>\n",
              "      <td>Covered</td>\n",
              "      <td>CAT C</td>\n",
              "    </tr>\n",
              "    <tr>\n",
              "      <th>677</th>\n",
              "      <td>7288.0</td>\n",
              "      <td>9560.0</td>\n",
              "      <td>12531.0</td>\n",
              "      <td>1989.0</td>\n",
              "      <td>2414.0</td>\n",
              "      <td>860</td>\n",
              "      <td>11632000</td>\n",
              "      <td>overprice</td>\n",
              "      <td>No Parking</td>\n",
              "      <td>CAT A</td>\n",
              "    </tr>\n",
              "    <tr>\n",
              "      <th>721</th>\n",
              "      <td>8499.0</td>\n",
              "      <td>7295.0</td>\n",
              "      <td>13189.0</td>\n",
              "      <td>1548.0</td>\n",
              "      <td>1858.0</td>\n",
              "      <td>480</td>\n",
              "      <td>9948000</td>\n",
              "      <td>overprice</td>\n",
              "      <td>Not Provided</td>\n",
              "      <td>CAT A</td>\n",
              "    </tr>\n",
              "    <tr>\n",
              "      <th>724</th>\n",
              "      <td>10989.0</td>\n",
              "      <td>13153.0</td>\n",
              "      <td>13797.0</td>\n",
              "      <td>1645.0</td>\n",
              "      <td>1958.0</td>\n",
              "      <td>530</td>\n",
              "      <td>9336000</td>\n",
              "      <td>overprice</td>\n",
              "      <td>Covered</td>\n",
              "      <td>CAT B</td>\n",
              "    </tr>\n",
              "    <tr>\n",
              "      <th>762</th>\n",
              "      <td>8274.0</td>\n",
              "      <td>11673.0</td>\n",
              "      <td>13345.0</td>\n",
              "      <td>1641.0</td>\n",
              "      <td>1999.0</td>\n",
              "      <td>950</td>\n",
              "      <td>9300000</td>\n",
              "      <td>overprice</td>\n",
              "      <td>Covered</td>\n",
              "      <td>CAT B</td>\n",
              "    </tr>\n",
              "    <tr>\n",
              "      <th>781</th>\n",
              "      <td>8618.0</td>\n",
              "      <td>10717.0</td>\n",
              "      <td>12286.0</td>\n",
              "      <td>1660.0</td>\n",
              "      <td>1979.0</td>\n",
              "      <td>480</td>\n",
              "      <td>7580000</td>\n",
              "      <td>overprice</td>\n",
              "      <td>Covered</td>\n",
              "      <td>CAT C</td>\n",
              "    </tr>\n",
              "    <tr>\n",
              "      <th>788</th>\n",
              "      <td>12262.0</td>\n",
              "      <td>12066.0</td>\n",
              "      <td>13268.0</td>\n",
              "      <td>1486.0</td>\n",
              "      <td>1758.0</td>\n",
              "      <td>820</td>\n",
              "      <td>10182000</td>\n",
              "      <td>overprice</td>\n",
              "      <td>Not Provided</td>\n",
              "      <td>CAT A</td>\n",
              "    </tr>\n",
              "    <tr>\n",
              "      <th>810</th>\n",
              "      <td>NaN</td>\n",
              "      <td>NaN</td>\n",
              "      <td>NaN</td>\n",
              "      <td>NaN</td>\n",
              "      <td>NaN</td>\n",
              "      <td>440</td>\n",
              "      <td>30000</td>\n",
              "      <td>underprice</td>\n",
              "      <td>Open</td>\n",
              "      <td>CAT A</td>\n",
              "    </tr>\n",
              "    <tr>\n",
              "      <th>830</th>\n",
              "      <td>11719.0</td>\n",
              "      <td>11627.0</td>\n",
              "      <td>16141.0</td>\n",
              "      <td>2019.0</td>\n",
              "      <td>2420.0</td>\n",
              "      <td>850</td>\n",
              "      <td>8567000</td>\n",
              "      <td>overprice</td>\n",
              "      <td>Not Provided</td>\n",
              "      <td>CAT B</td>\n",
              "    </tr>\n",
              "    <tr>\n",
              "      <th>846</th>\n",
              "      <td>8740.0</td>\n",
              "      <td>10899.0</td>\n",
              "      <td>13447.0</td>\n",
              "      <td>1873.0</td>\n",
              "      <td>2252.0</td>\n",
              "      <td>330</td>\n",
              "      <td>7931000</td>\n",
              "      <td>overprice</td>\n",
              "      <td>Covered</td>\n",
              "      <td>CAT C</td>\n",
              "    </tr>\n",
              "    <tr>\n",
              "      <th>874</th>\n",
              "      <td>9997.0</td>\n",
              "      <td>12349.0</td>\n",
              "      <td>13043.0</td>\n",
              "      <td>1350.0</td>\n",
              "      <td>1606.0</td>\n",
              "      <td>770</td>\n",
              "      <td>4303000</td>\n",
              "      <td>underprice</td>\n",
              "      <td>Covered</td>\n",
              "      <td>CAT A</td>\n",
              "    </tr>\n",
              "    <tr>\n",
              "      <th>925</th>\n",
              "      <td>10915.0</td>\n",
              "      <td>17486.0</td>\n",
              "      <td>15964.0</td>\n",
              "      <td>1549.0</td>\n",
              "      <td>1851.0</td>\n",
              "      <td>1220</td>\n",
              "      <td>7062000</td>\n",
              "      <td>overprice</td>\n",
              "      <td>Not Provided</td>\n",
              "      <td>CAT C</td>\n",
              "    </tr>\n",
              "    <tr>\n",
              "      <th>929</th>\n",
              "      <td>15082.0</td>\n",
              "      <td>14700.0</td>\n",
              "      <td>19617.0</td>\n",
              "      <td>1299.0</td>\n",
              "      <td>1560.0</td>\n",
              "      <td>770</td>\n",
              "      <td>9661000</td>\n",
              "      <td>overprice</td>\n",
              "      <td>Open</td>\n",
              "      <td>CAT B</td>\n",
              "    </tr>\n",
              "  </tbody>\n",
              "</table>\n",
              "</div>"
            ],
            "text/plain": [
              "     Dist_Taxi  Dist_Market  ...       Parking  City_Category\n",
              "Id                           ...                             \n",
              "175     5754.0       6031.0  ...  Not Provided          CAT A\n",
              "256    10100.0      11800.0  ...  Not Provided          CAT B\n",
              "320    11240.0       9781.0  ...       Covered          CAT A\n",
              "346     9119.0      11639.0  ...          Open          CAT C\n",
              "408     8773.0      13547.0  ...    No Parking          CAT A\n",
              "427    16233.0      15074.0  ...    No Parking          CAT A\n",
              "464     7753.0       8307.0  ...  Not Provided          CAT C\n",
              "621     4619.0      10768.0  ...       Covered          CAT C\n",
              "677     7288.0       9560.0  ...    No Parking          CAT A\n",
              "721     8499.0       7295.0  ...  Not Provided          CAT A\n",
              "724    10989.0      13153.0  ...       Covered          CAT B\n",
              "762     8274.0      11673.0  ...       Covered          CAT B\n",
              "781     8618.0      10717.0  ...       Covered          CAT C\n",
              "788    12262.0      12066.0  ...  Not Provided          CAT A\n",
              "810        NaN          NaN  ...          Open          CAT A\n",
              "830    11719.0      11627.0  ...  Not Provided          CAT B\n",
              "846     8740.0      10899.0  ...       Covered          CAT C\n",
              "874     9997.0      12349.0  ...       Covered          CAT A\n",
              "925    10915.0      17486.0  ...  Not Provided          CAT C\n",
              "929    15082.0      14700.0  ...          Open          CAT B\n",
              "\n",
              "[20 rows x 10 columns]"
            ]
          },
          "metadata": {
            "tags": []
          },
          "execution_count": 234
        }
      ]
    },
    {
      "cell_type": "markdown",
      "metadata": {
        "id": "7AntOXBr5BSP"
      },
      "source": [
        "# Bagian 3\n",
        "\n",
        "\n",
        "\n",
        "Kerjakan soal berikut:"
      ]
    },
    {
      "cell_type": "code",
      "metadata": {
        "colab": {
          "base_uri": "https://localhost:8080/",
          "height": 204
        },
        "id": "_bJFPtCR5IGG",
        "outputId": "1ede97b5-3cbc-48d4-baf4-ba06fac8f6eb"
      },
      "source": [
        "tips = sns.load_dataset('tips')\n",
        "tips.sample(5)"
      ],
      "execution_count": null,
      "outputs": [
        {
          "output_type": "execute_result",
          "data": {
            "text/html": [
              "<div>\n",
              "<style scoped>\n",
              "    .dataframe tbody tr th:only-of-type {\n",
              "        vertical-align: middle;\n",
              "    }\n",
              "\n",
              "    .dataframe tbody tr th {\n",
              "        vertical-align: top;\n",
              "    }\n",
              "\n",
              "    .dataframe thead th {\n",
              "        text-align: right;\n",
              "    }\n",
              "</style>\n",
              "<table border=\"1\" class=\"dataframe\">\n",
              "  <thead>\n",
              "    <tr style=\"text-align: right;\">\n",
              "      <th></th>\n",
              "      <th>total_bill</th>\n",
              "      <th>tip</th>\n",
              "      <th>sex</th>\n",
              "      <th>smoker</th>\n",
              "      <th>day</th>\n",
              "      <th>time</th>\n",
              "      <th>size</th>\n",
              "    </tr>\n",
              "  </thead>\n",
              "  <tbody>\n",
              "    <tr>\n",
              "      <th>138</th>\n",
              "      <td>16.00</td>\n",
              "      <td>2.00</td>\n",
              "      <td>Male</td>\n",
              "      <td>Yes</td>\n",
              "      <td>Thur</td>\n",
              "      <td>Lunch</td>\n",
              "      <td>2</td>\n",
              "    </tr>\n",
              "    <tr>\n",
              "      <th>193</th>\n",
              "      <td>15.48</td>\n",
              "      <td>2.02</td>\n",
              "      <td>Male</td>\n",
              "      <td>Yes</td>\n",
              "      <td>Thur</td>\n",
              "      <td>Lunch</td>\n",
              "      <td>2</td>\n",
              "    </tr>\n",
              "    <tr>\n",
              "      <th>147</th>\n",
              "      <td>11.87</td>\n",
              "      <td>1.63</td>\n",
              "      <td>Female</td>\n",
              "      <td>No</td>\n",
              "      <td>Thur</td>\n",
              "      <td>Lunch</td>\n",
              "      <td>2</td>\n",
              "    </tr>\n",
              "    <tr>\n",
              "      <th>227</th>\n",
              "      <td>20.45</td>\n",
              "      <td>3.00</td>\n",
              "      <td>Male</td>\n",
              "      <td>No</td>\n",
              "      <td>Sat</td>\n",
              "      <td>Dinner</td>\n",
              "      <td>4</td>\n",
              "    </tr>\n",
              "    <tr>\n",
              "      <th>222</th>\n",
              "      <td>8.58</td>\n",
              "      <td>1.92</td>\n",
              "      <td>Male</td>\n",
              "      <td>Yes</td>\n",
              "      <td>Fri</td>\n",
              "      <td>Lunch</td>\n",
              "      <td>1</td>\n",
              "    </tr>\n",
              "  </tbody>\n",
              "</table>\n",
              "</div>"
            ],
            "text/plain": [
              "     total_bill   tip     sex smoker   day    time  size\n",
              "138       16.00  2.00    Male    Yes  Thur   Lunch     2\n",
              "193       15.48  2.02    Male    Yes  Thur   Lunch     2\n",
              "147       11.87  1.63  Female     No  Thur   Lunch     2\n",
              "227       20.45  3.00    Male     No   Sat  Dinner     4\n",
              "222        8.58  1.92    Male    Yes   Fri   Lunch     1"
            ]
          },
          "metadata": {
            "tags": []
          },
          "execution_count": 197
        }
      ]
    },
    {
      "cell_type": "markdown",
      "metadata": {
        "id": "T0DGC11z5fVj"
      },
      "source": [
        "1. Adakah tipe variabel yang kurang tepat di data tersebut?"
      ]
    },
    {
      "cell_type": "code",
      "metadata": {
        "colab": {
          "base_uri": "https://localhost:8080/"
        },
        "id": "UJGa_3GT5RwN",
        "outputId": "c91380f9-9aef-4389-d019-09fa6448f271"
      },
      "source": [
        "tips.info()"
      ],
      "execution_count": null,
      "outputs": [
        {
          "output_type": "stream",
          "text": [
            "<class 'pandas.core.frame.DataFrame'>\n",
            "RangeIndex: 244 entries, 0 to 243\n",
            "Data columns (total 7 columns):\n",
            " #   Column      Non-Null Count  Dtype   \n",
            "---  ------      --------------  -----   \n",
            " 0   total_bill  244 non-null    float64 \n",
            " 1   tip         244 non-null    float64 \n",
            " 2   sex         244 non-null    category\n",
            " 3   smoker      244 non-null    category\n",
            " 4   day         244 non-null    category\n",
            " 5   time        244 non-null    category\n",
            " 6   size        244 non-null    int64   \n",
            "dtypes: category(4), float64(2), int64(1)\n",
            "memory usage: 7.3 KB\n"
          ],
          "name": "stdout"
        }
      ]
    },
    {
      "cell_type": "code",
      "metadata": {
        "id": "JRbjANQG5lsu"
      },
      "source": [
        "tips['size'] = tips['size'].astype('category')"
      ],
      "execution_count": null,
      "outputs": []
    },
    {
      "cell_type": "markdown",
      "metadata": {
        "id": "edN1kM1i5pen"
      },
      "source": [
        "Jawab :\n",
        "\n",
        "Ada, yaitu variabel size seharusnya bertipe kategori, karena variabel ini menunjukkan jumlah pengunjung dalam 1 bill."
      ]
    },
    {
      "cell_type": "markdown",
      "metadata": {
        "id": "RhnGha5s5rl6"
      },
      "source": [
        "2. Apakah data numeriknya cenderung berdistribusi normal?"
      ]
    },
    {
      "cell_type": "code",
      "metadata": {
        "colab": {
          "base_uri": "https://localhost:8080/",
          "height": 335
        },
        "id": "V7eckHA-5qMm",
        "outputId": "1c791674-3010-49c3-9ad0-5b72fa6c2d7e"
      },
      "source": [
        "tips[['total_bill', 'tip']].hist(figsize=(6, 4), layout=(1, 2))"
      ],
      "execution_count": null,
      "outputs": [
        {
          "output_type": "execute_result",
          "data": {
            "text/plain": [
              "array([[<matplotlib.axes._subplots.AxesSubplot object at 0x7f341f3b1fd0>,\n",
              "        <matplotlib.axes._subplots.AxesSubplot object at 0x7f341f2a1710>]],\n",
              "      dtype=object)"
            ]
          },
          "metadata": {
            "tags": []
          },
          "execution_count": 203
        },
        {
          "output_type": "display_data",
          "data": {
            "image/png": "[encoded data removed]",
            "text/plain": [
              "<Figure size 432x288 with 2 Axes>"
            ]
          },
          "metadata": {
            "tags": [],
            "needs_background": "light"
          }
        }
      ]
    },
    {
      "cell_type": "markdown",
      "metadata": {
        "id": "TCj8Q0Y259DH"
      },
      "source": [
        "Jawab:\n",
        "\n",
        "Berdasarkan histogram di atas dapat dilihat bahwa variabelnya tidak berdistribusi normal (cenderung miring kiri)"
      ]
    },
    {
      "cell_type": "markdown",
      "metadata": {
        "id": "w-lIV5Pl5-4l"
      },
      "source": [
        "3. Apakah ada outlier, noise, missing values, dan-atau duplikasi data?"
      ]
    },
    {
      "cell_type": "code",
      "metadata": {
        "colab": {
          "base_uri": "https://localhost:8080/",
          "height": 349
        },
        "id": "yaNSqQya6CqV",
        "outputId": "29f18e42-e98e-407f-b604-5283a8c8bddd"
      },
      "source": [
        "tips.plot(kind='box', subplots=True, layout=(2,7),\n",
        "           sharex=False, sharey=False, figsize=(20, 10))"
      ],
      "execution_count": null,
      "outputs": [
        {
          "output_type": "execute_result",
          "data": {
            "text/plain": [
              "total_bill       AxesSubplot(0.125,0.536818;0.0945122x0.343182)\n",
              "tip           AxesSubplot(0.238415,0.536818;0.0945122x0.343182)\n",
              "dtype: object"
            ]
          },
          "metadata": {
            "tags": []
          },
          "execution_count": 204
        },
        {
          "output_type": "display_data",
          "data": {
            "image/png": "[encoded data removed]",
            "text/plain": [
              "<Figure size 1440x720 with 14 Axes>"
            ]
          },
          "metadata": {
            "tags": [],
            "needs_background": "light"
          }
        }
      ]
    },
    {
      "cell_type": "code",
      "metadata": {
        "colab": {
          "base_uri": "https://localhost:8080/"
        },
        "id": "ovzThz8b6Eb2",
        "outputId": "96c351cf-9945-436e-de82-d71dd21d575b"
      },
      "source": [
        "for col in tips.columns:\n",
        "  if tips[col].dtypes=='float64':\n",
        "    print('\\n noise pada variabel',col)\n",
        "    print(tips[tips[col]<0])\n",
        "  else:\n",
        "    print('\\n variabel',col)\n",
        "    print('isinya: \\n',tips[col].value_counts()) "
      ],
      "execution_count": null,
      "outputs": [
        {
          "output_type": "stream",
          "text": [
            "\n",
            " noise pada variabel total_bill\n",
            "Empty DataFrame\n",
            "Columns: [total_bill, tip, sex, smoker, day, time, size]\n",
            "Index: []\n",
            "\n",
            " noise pada variabel tip\n",
            "Empty DataFrame\n",
            "Columns: [total_bill, tip, sex, smoker, day, time, size]\n",
            "Index: []\n",
            "\n",
            " variabel sex\n",
            "isinya: \n",
            " Male      157\n",
            "Female     87\n",
            "Name: sex, dtype: int64\n",
            "\n",
            " variabel smoker\n",
            "isinya: \n",
            " No     151\n",
            "Yes     93\n",
            "Name: smoker, dtype: int64\n",
            "\n",
            " variabel day\n",
            "isinya: \n",
            " Sat     87\n",
            "Sun     76\n",
            "Thur    62\n",
            "Fri     19\n",
            "Name: day, dtype: int64\n",
            "\n",
            " variabel time\n",
            "isinya: \n",
            " Dinner    176\n",
            "Lunch      68\n",
            "Name: time, dtype: int64\n",
            "\n",
            " variabel size\n",
            "isinya: \n",
            " 2    156\n",
            "3     38\n",
            "4     37\n",
            "5      5\n",
            "6      4\n",
            "1      4\n",
            "Name: size, dtype: int64\n"
          ],
          "name": "stdout"
        }
      ]
    },
    {
      "cell_type": "code",
      "metadata": {
        "colab": {
          "base_uri": "https://localhost:8080/"
        },
        "id": "xlfnYpkQ6K23",
        "outputId": "1846af69-c966-4f9f-ef69-ccfadb065d66"
      },
      "source": [
        "print('jumlah missing value :', tips.isnull().sum().sum())"
      ],
      "execution_count": null,
      "outputs": [
        {
          "output_type": "stream",
          "text": [
            "jumlah missing value : 0\n"
          ],
          "name": "stdout"
        }
      ]
    },
    {
      "cell_type": "code",
      "metadata": {
        "colab": {
          "base_uri": "https://localhost:8080/",
          "height": 145
        },
        "id": "SSBs70Zl6Rrc",
        "outputId": "fdfc7b82-1948-45ff-bd9e-0638d5e2656f"
      },
      "source": [
        "print('jumlah duplikasi data :', tips.duplicated().sum())\n",
        "print('baris yang memiliki duplikasi adalah :')\n",
        "tips[tips.duplicated(keep=False)]"
      ],
      "execution_count": null,
      "outputs": [
        {
          "output_type": "stream",
          "text": [
            "jumlah duplikasi data : 1\n",
            "baris yang memiliki duplikasi adalah :\n"
          ],
          "name": "stdout"
        },
        {
          "output_type": "execute_result",
          "data": {
            "text/html": [
              "<div>\n",
              "<style scoped>\n",
              "    .dataframe tbody tr th:only-of-type {\n",
              "        vertical-align: middle;\n",
              "    }\n",
              "\n",
              "    .dataframe tbody tr th {\n",
              "        vertical-align: top;\n",
              "    }\n",
              "\n",
              "    .dataframe thead th {\n",
              "        text-align: right;\n",
              "    }\n",
              "</style>\n",
              "<table border=\"1\" class=\"dataframe\">\n",
              "  <thead>\n",
              "    <tr style=\"text-align: right;\">\n",
              "      <th></th>\n",
              "      <th>total_bill</th>\n",
              "      <th>tip</th>\n",
              "      <th>sex</th>\n",
              "      <th>smoker</th>\n",
              "      <th>day</th>\n",
              "      <th>time</th>\n",
              "      <th>size</th>\n",
              "    </tr>\n",
              "  </thead>\n",
              "  <tbody>\n",
              "    <tr>\n",
              "      <th>198</th>\n",
              "      <td>13.0</td>\n",
              "      <td>2.0</td>\n",
              "      <td>Female</td>\n",
              "      <td>Yes</td>\n",
              "      <td>Thur</td>\n",
              "      <td>Lunch</td>\n",
              "      <td>2</td>\n",
              "    </tr>\n",
              "    <tr>\n",
              "      <th>202</th>\n",
              "      <td>13.0</td>\n",
              "      <td>2.0</td>\n",
              "      <td>Female</td>\n",
              "      <td>Yes</td>\n",
              "      <td>Thur</td>\n",
              "      <td>Lunch</td>\n",
              "      <td>2</td>\n",
              "    </tr>\n",
              "  </tbody>\n",
              "</table>\n",
              "</div>"
            ],
            "text/plain": [
              "     total_bill  tip     sex smoker   day   time size\n",
              "198        13.0  2.0  Female    Yes  Thur  Lunch    2\n",
              "202        13.0  2.0  Female    Yes  Thur  Lunch    2"
            ]
          },
          "metadata": {
            "tags": []
          },
          "execution_count": 207
        }
      ]
    },
    {
      "cell_type": "code",
      "metadata": {
        "id": "Hm_kmJ7d6WSq"
      },
      "source": [
        "tips.drop_duplicates(inplace=True)"
      ],
      "execution_count": null,
      "outputs": []
    },
    {
      "cell_type": "markdown",
      "metadata": {
        "id": "F4HC0YvS6btM"
      },
      "source": [
        "Jawab :\n",
        "- Berdasarkan boxplot di atas dapat dilihat bahwa terdapat outlier pada tiap variabel yang numerik\n",
        "- Tidak terdapat noise pada tiap variabel, karena tidak ada tip dan total_bill yang benilai negatif. Serta untuk variabel kategori semuanya masih sesuai.\n",
        "\n",
        "- Tidak terdapat missing values pada dataset tersebut\n",
        "\n",
        "- Terdapat duplikasi data pada index ke 198 dan 202"
      ]
    },
    {
      "cell_type": "markdown",
      "metadata": {
        "id": "tWtBkkQo6fWb"
      },
      "source": [
        "4. Apakah pelanggan pria dan wanita cenderung proporsional (balance)?"
      ]
    },
    {
      "cell_type": "code",
      "metadata": {
        "colab": {
          "base_uri": "https://localhost:8080/",
          "height": 285
        },
        "id": "heVRBRR36bOR",
        "outputId": "47fee6f8-07df-49dc-b46b-ad7d8a817445"
      },
      "source": [
        "plt.figure(figsize=(5,4))\n",
        "p = sns.countplot(x=\"sex\", data=tips)"
      ],
      "execution_count": null,
      "outputs": [
        {
          "output_type": "display_data",
          "data": {
            "image/png": "[encoded data removed]",
            "text/plain": [
              "<Figure size 360x288 with 1 Axes>"
            ]
          },
          "metadata": {
            "tags": [],
            "needs_background": "light"
          }
        }
      ]
    },
    {
      "cell_type": "markdown",
      "metadata": {
        "id": "TM3RbJ_s6oSv"
      },
      "source": [
        "Jawab :\n",
        "\n",
        "Proporsi pelanggan pria cenderung lebih banyak dari pelanggan wanita (tidak balance) "
      ]
    },
    {
      "cell_type": "markdown",
      "metadata": {
        "id": "cPqSaHO26ppT"
      },
      "source": [
        "5. Dari data yang ada apakah Pria atau wanita ada kecenderungan memberi tips lebih besar?"
      ]
    },
    {
      "cell_type": "code",
      "metadata": {
        "colab": {
          "base_uri": "https://localhost:8080/",
          "height": 403
        },
        "id": "pqMRMcem6mJG",
        "outputId": "76cf3e0a-9a41-4562-fecd-7807d1d5c6f6"
      },
      "source": [
        "sns.catplot(y='tip', x='sex', data=tips)"
      ],
      "execution_count": null,
      "outputs": [
        {
          "output_type": "execute_result",
          "data": {
            "text/plain": [
              "<seaborn.axisgrid.FacetGrid at 0x7f341f079210>"
            ]
          },
          "metadata": {
            "tags": []
          },
          "execution_count": 210
        },
        {
          "output_type": "display_data",
          "data": {
            "image/png": "[encoded data removed]",
            "text/plain": [
              "<Figure size 360x360 with 1 Axes>"
            ]
          },
          "metadata": {
            "tags": [],
            "needs_background": "light"
          }
        }
      ]
    },
    {
      "cell_type": "markdown",
      "metadata": {
        "id": "dGZYf-KC6xDx"
      },
      "source": [
        "Jawab :\n",
        "\n",
        "Secara sekilas, sebaran data tip pada pria dan wanita cenderung sama. Namun, ada sebagian dari data pria yang memberikan tip lebih besar dibanding yang lainnya"
      ]
    },
    {
      "cell_type": "markdown",
      "metadata": {
        "id": "GUC_V3Dy6yT0"
      },
      "source": [
        "6. Dari data yang ada apakah ada kecenderungan tips lebih besar di hari-hari tertentu?"
      ]
    },
    {
      "cell_type": "code",
      "metadata": {
        "colab": {
          "base_uri": "https://localhost:8080/",
          "height": 403
        },
        "id": "LPG9fjbR6t7P",
        "outputId": "4759f653-f82a-4483-c18c-21b30530aa87"
      },
      "source": [
        "sns.catplot(y='tip', x='day', data=tips)"
      ],
      "execution_count": null,
      "outputs": [
        {
          "output_type": "execute_result",
          "data": {
            "text/plain": [
              "<seaborn.axisgrid.FacetGrid at 0x7f341f0f8f10>"
            ]
          },
          "metadata": {
            "tags": []
          },
          "execution_count": 211
        },
        {
          "output_type": "display_data",
          "data": {
            "image/png": "[encoded data removed]",
            "text/plain": [
              "<Figure size 360x360 with 1 Axes>"
            ]
          },
          "metadata": {
            "tags": [],
            "needs_background": "light"
          }
        }
      ]
    },
    {
      "cell_type": "markdown",
      "metadata": {
        "id": "wphrGNsa65Xj"
      },
      "source": [
        "Jawab :\n",
        "\n",
        "Secara sekilas, sebaran data tip pada setiap hari operasioal cenderung sama. Namun, ada sebagian dari data pengunjung dihari sabtu yang memberikan tip lebih besar dibanding yang lainnya"
      ]
    },
    {
      "cell_type": "markdown",
      "metadata": {
        "id": "PYL8A4Nv67Ib"
      },
      "source": [
        "7. Dari data yang ada apakah customer perokok cenderung memberi tips lebih besar?"
      ]
    },
    {
      "cell_type": "code",
      "metadata": {
        "colab": {
          "base_uri": "https://localhost:8080/",
          "height": 403
        },
        "id": "qVdPvvEr63Pm",
        "outputId": "fe89b56b-097a-48d9-dd73-6725578f050e"
      },
      "source": [
        "sns.catplot(y='tip', x='smoker', data=tips)"
      ],
      "execution_count": null,
      "outputs": [
        {
          "output_type": "execute_result",
          "data": {
            "text/plain": [
              "<seaborn.axisgrid.FacetGrid at 0x7f341f045f50>"
            ]
          },
          "metadata": {
            "tags": []
          },
          "execution_count": 212
        },
        {
          "output_type": "display_data",
          "data": {
            "image/png": "[encoded data removed]",
            "text/plain": [
              "<Figure size 360x360 with 1 Axes>"
            ]
          },
          "metadata": {
            "tags": [],
            "needs_background": "light"
          }
        }
      ]
    },
    {
      "cell_type": "markdown",
      "metadata": {
        "id": "WYutQko67CFM"
      },
      "source": [
        "Jawab : \n",
        "\n",
        "Secara sekilas, sebaran data tip pada pengunjung perokok dan bukan perokok cenderung sama. "
      ]
    },
    {
      "cell_type": "markdown",
      "metadata": {
        "id": "PY0g2uBz7EI1"
      },
      "source": [
        "8. Apakah pola di nomer 5 dan 7 dipengaruhi hari?"
      ]
    },
    {
      "cell_type": "code",
      "metadata": {
        "colab": {
          "base_uri": "https://localhost:8080/",
          "height": 403
        },
        "id": "qFKwGox96_uD",
        "outputId": "096bf5a2-0f20-4dd6-aaf3-f17746adc052"
      },
      "source": [
        "sns.catplot(x='day', col='sex', y='tip', data=tips)"
      ],
      "execution_count": null,
      "outputs": [
        {
          "output_type": "execute_result",
          "data": {
            "text/plain": [
              "<seaborn.axisgrid.FacetGrid at 0x7f341efbdf50>"
            ]
          },
          "metadata": {
            "tags": []
          },
          "execution_count": 213
        },
        {
          "output_type": "display_data",
          "data": {
            "image/png": "[encoded data removed]",
            "text/plain": [
              "<Figure size 720x360 with 2 Axes>"
            ]
          },
          "metadata": {
            "tags": [],
            "needs_background": "light"
          }
        }
      ]
    },
    {
      "cell_type": "code",
      "metadata": {
        "colab": {
          "base_uri": "https://localhost:8080/",
          "height": 403
        },
        "id": "yihX5QOp7HPJ",
        "outputId": "a94afc28-6a6b-4aad-b7f7-14fe8a343c42"
      },
      "source": [
        "sns.catplot(x='day', col='smoker', y='tip', data=tips)"
      ],
      "execution_count": null,
      "outputs": [
        {
          "output_type": "execute_result",
          "data": {
            "text/plain": [
              "<seaborn.axisgrid.FacetGrid at 0x7f341ee6cd10>"
            ]
          },
          "metadata": {
            "tags": []
          },
          "execution_count": 214
        },
        {
          "output_type": "display_data",
          "data": {
            "image/png": "[encoded data removed]",
            "text/plain": [
              "<Figure size 720x360 with 2 Axes>"
            ]
          },
          "metadata": {
            "tags": [],
            "needs_background": "light"
          }
        }
      ]
    },
    {
      "cell_type": "markdown",
      "metadata": {
        "id": "6u9oY7qg7Mi-"
      },
      "source": [
        "Jawab :\n",
        "\n",
        "Berdasarkan grafik tersebut, pola 5 dan 7 cenderung tidak dipengaruhi oleh hari. Namun pada hari Sabtu beberapa pengunjung memberikan tips yang besar dari biasanya."
      ]
    },
    {
      "cell_type": "markdown",
      "metadata": {
        "id": "ASlqGy0f7Ons"
      },
      "source": [
        "9. Pola apalagi yang dapat anda temukan? (misal, bisakah anda menyarankan tata letak kursi/meja restaurant dari data ini?)"
      ]
    },
    {
      "cell_type": "code",
      "metadata": {
        "colab": {
          "base_uri": "https://localhost:8080/",
          "height": 285
        },
        "id": "JUyToY9f7rt3",
        "outputId": "c82674e0-0011-4aa6-8bca-3622e7f6648f"
      },
      "source": [
        "p = sns.countplot(x=\"size\", data=tips)"
      ],
      "execution_count": null,
      "outputs": [
        {
          "output_type": "display_data",
          "data": {
            "image/png": "[encoded data removed]",
            "text/plain": [
              "<Figure size 432x288 with 1 Axes>"
            ]
          },
          "metadata": {
            "tags": [],
            "needs_background": "light"
          }
        }
      ]
    },
    {
      "cell_type": "code",
      "metadata": {
        "colab": {
          "base_uri": "https://localhost:8080/",
          "height": 285
        },
        "id": "W_c87HEC7ttA",
        "outputId": "367baa8b-d2a6-403c-eac9-88480d5bd36c"
      },
      "source": [
        "p = sns.countplot(x=\"time\", data=tips)"
      ],
      "execution_count": null,
      "outputs": [
        {
          "output_type": "display_data",
          "data": {
            "image/png": "[encoded data removed]",
            "text/plain": [
              "<Figure size 432x288 with 1 Axes>"
            ]
          },
          "metadata": {
            "tags": [],
            "needs_background": "light"
          }
        }
      ]
    },
    {
      "cell_type": "markdown",
      "metadata": {
        "id": "ehPqGvyJ7xRI"
      },
      "source": [
        "Jawab :\n",
        "\n",
        "- Dapat dilihat bahwa jumlah pengunjung yang datang berdua cenderung lebih banyak dibanding yang lainnya\n",
        "- Pengunjung yang datang diwaktu makan malam lebih banyak dibanding saat makan siang"
      ]
    },
    {
      "cell_type": "markdown",
      "metadata": {
        "id": "t5Lz8Wwj7zrH"
      },
      "source": [
        "10. Final question: dari hasil EDA anda saran apa saja yang akan anda berikan ke pemilik restaurant?"
      ]
    },
    {
      "cell_type": "code",
      "metadata": {
        "colab": {
          "base_uri": "https://localhost:8080/",
          "height": 386
        },
        "id": "pWWu7FTw7vef",
        "outputId": "5d0becc4-554e-4264-e294-543793e073b7"
      },
      "source": [
        "ax = sns.catplot(x = 'day', hue = 'size', col = 'time', kind='count', data=tips)"
      ],
      "execution_count": null,
      "outputs": [
        {
          "output_type": "display_data",
          "data": {
            "image/png": "[encoded data removed]",
            "text/plain": [
              "<Figure size 766.6x360 with 2 Axes>"
            ]
          },
          "metadata": {
            "tags": [],
            "needs_background": "light"
          }
        }
      ]
    },
    {
      "cell_type": "markdown",
      "metadata": {
        "id": "odU5Xjx97_7t"
      },
      "source": [
        "Jawab :\n",
        "\n",
        "Disarankan untuk \n",
        "- lebih memperbanyak stok pada weekend\n",
        "- mencoba memberikan promo menarik diwaktu makan siang agar lebih banyak pengunjung yang datang\n",
        "- lebih banyak menata kursi untuk 2 orang\n",
        "- lebih memperluas area untuk non-smoking, dibanding smoking area\n",
        "- memberikan live music atau hiburan saat malam weekend"
      ]
    }
  ]
}